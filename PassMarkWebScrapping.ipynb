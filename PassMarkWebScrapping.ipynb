{
  "nbformat": 4,
  "nbformat_minor": 0,
  "metadata": {
    "colab": {
      "name": "PassMarkWebScrapping.ipynb",
      "provenance": [],
      "authorship_tag": "ABX9TyOVWodErU6EzVYeg5XO3Xpv",
      "include_colab_link": true
    },
    "kernelspec": {
      "name": "python3",
      "display_name": "Python 3"
    },
    "language_info": {
      "name": "python"
    }
  },
  "cells": [
    {
      "cell_type": "markdown",
      "metadata": {
        "id": "view-in-github",
        "colab_type": "text"
      },
      "source": [
        "<a href=\"https://colab.research.google.com/github/MatheusSC017/PassMarkWebScraping/blob/main/PassMarkWebScrapping.ipynb\" target=\"_parent\"><img src=\"https://colab.research.google.com/assets/colab-badge.svg\" alt=\"Open In Colab\"/></a>"
      ]
    },
    {
      "cell_type": "markdown",
      "source": [
        "# PassMark Web Scraping"
      ],
      "metadata": {
        "id": "tly3tHArcaGg"
      }
    },
    {
      "cell_type": "markdown",
      "source": [
        "## Libraries"
      ],
      "metadata": {
        "id": "CD-f27LDcsSd"
      }
    },
    {
      "cell_type": "code",
      "execution_count": null,
      "metadata": {
        "id": "AZd2Vfp7THfs"
      },
      "outputs": [],
      "source": [
        "import bs4\n",
        "import requests\n",
        "import re\n",
        "import pandas as pd\n",
        "import numpy as np"
      ]
    },
    {
      "cell_type": "markdown",
      "source": [
        "## Scraping a video card page table"
      ],
      "metadata": {
        "id": "1Fd9M90Umz52"
      }
    },
    {
      "cell_type": "markdown",
      "source": [
        "### Getting the data"
      ],
      "metadata": {
        "id": "U8vyhWPxnzup"
      }
    },
    {
      "cell_type": "code",
      "source": [
        "url = 'https://www.videocardbenchmark.net/gpu_list.php'\n",
        "\n",
        "response = requests.get(url)\n",
        "\n",
        "html = bs4.BeautifulSoup(response.text, 'html.parser')\n",
        "\n",
        "table = html.find(id='cputable')\n",
        "head = table.find('thead')\n",
        "body = table.find('tbody').find_all('tr')"
      ],
      "metadata": {
        "id": "32ynvWb5oITL"
      },
      "execution_count": null,
      "outputs": []
    },
    {
      "cell_type": "markdown",
      "source": [
        "### Table data scraping"
      ],
      "metadata": {
        "id": "DjpOZzxMn_VR"
      }
    },
    {
      "cell_type": "code",
      "source": [
        "def read_table_data(table):\n",
        "    table_data = list()\n",
        "    for line in table:\n",
        "        line_data = line.find_all('td')\n",
        "        table_data.append([data.text for data in line_data])\n",
        "    return table_data\n",
        "video_cards_data = read_table_data(body)"
      ],
      "metadata": {
        "id": "yn8EUQCiqD6d"
      },
      "execution_count": null,
      "outputs": []
    },
    {
      "cell_type": "markdown",
      "source": [
        "### Data typing and initial cleanup"
      ],
      "metadata": {
        "id": "PA2gGzlBoRd8"
      }
    },
    {
      "cell_type": "code",
      "source": [
        "def convert_float(value):\n",
        "    try:\n",
        "        value = re.sub(',', '', value)\n",
        "        new_value = re.findall('[0-9]+\\.?[0-9]{0,2}', value)\n",
        "        if not len(new_value):\n",
        "            return np.NaN\n",
        "        return float(new_value[0])\n",
        "    except TypeError:\n",
        "        return np.NaN"
      ],
      "metadata": {
        "id": "oXZ7xhgovYR8"
      },
      "execution_count": null,
      "outputs": []
    },
    {
      "cell_type": "code",
      "source": [
        "def convert_int(value):\n",
        "    try:\n",
        "        value = re.findall('-?[0-9]+', value)\n",
        "        if not len(value):\n",
        "            return np.NaN\n",
        "        return int(value[0])\n",
        "    except TypeError:\n",
        "        return np.NaN"
      ],
      "metadata": {
        "id": "Vyl4ybfZwcsZ"
      },
      "execution_count": null,
      "outputs": []
    },
    {
      "cell_type": "code",
      "source": [
        "for line in video_cards_data:\n",
        "    line[1] = convert_int(line[1])\n",
        "    line[2] = convert_int(line[2])\n",
        "    line[3] = convert_float(line[3])\n",
        "    line[4] = convert_float(line[4])"
      ],
      "metadata": {
        "id": "89gL7L1N11r4"
      },
      "execution_count": null,
      "outputs": []
    },
    {
      "cell_type": "markdown",
      "source": [
        "### Reading the table header"
      ],
      "metadata": {
        "id": "ERBGK1i1opgT"
      }
    },
    {
      "cell_type": "code",
      "source": [
        "def read_table_head(head):\n",
        "    columns = [column.text for column in head.find_all('th')]\n",
        "    return columns\n",
        "columns = read_table_head(head)"
      ],
      "metadata": {
        "id": "x9toWssBuBvE"
      },
      "execution_count": null,
      "outputs": []
    },
    {
      "cell_type": "markdown",
      "source": [
        "### DataFrame creation"
      ],
      "metadata": {
        "id": "7WrU6WzLpdzj"
      }
    },
    {
      "cell_type": "code",
      "source": [
        "video_cards_df = pd.DataFrame(data=video_cards_data, columns=columns)\n",
        "video_cards_df"
      ],
      "metadata": {
        "colab": {
          "base_uri": "https://localhost:8080/",
          "height": 424
        },
        "id": "mfoodi85tvOX",
        "outputId": "fc3b5c5e-f372-44ad-c8c2-6984f5c12ded"
      },
      "execution_count": null,
      "outputs": [
        {
          "output_type": "execute_result",
          "data": {
            "text/plain": [
              "                       Videocard Name  Passmark G3D Mark\\n(higher is better)  \\\n",
              "0     128 DDR Radeon 9700 TX w/TV-Out                                     44   \n",
              "1             128 DDR Radeon 9800 Pro                                     62   \n",
              "2           128MB DDR Radeon 9800 Pro                                     66   \n",
              "3                128MB RADEON X600 SE                                     49   \n",
              "4                                15FF                                   8229   \n",
              "...                               ...                                    ...   \n",
              "2303                            Xabre                                      5   \n",
              "2304           XFX Radeon HD 4650 AGP                                    109   \n",
              "2305   XGI Volari Family v1.13.23.D_V                                      4   \n",
              "2306            ZX Chrome 645/640 GPU                                    147   \n",
              "2307                 zxcvIntel HD 620                                    943   \n",
              "\n",
              "      Rank\\n(lower is better)  Videocard Value\\n(higher is better)  \\\n",
              "0                        1970                                  NaN   \n",
              "1                        1911                                  NaN   \n",
              "2                        1900                                  NaN   \n",
              "3                        1950                                 0.87   \n",
              "4                         171                                  NaN   \n",
              "...                       ...                                  ...   \n",
              "2303                     2160                                  NaN   \n",
              "2304                     1758                                  NaN   \n",
              "2305                     2179                                  NaN   \n",
              "2306                     1652                                  NaN   \n",
              "2307                       -1                                  NaN   \n",
              "\n",
              "      Price\\n(USD)  \n",
              "0              NaN  \n",
              "1              NaN  \n",
              "2              NaN  \n",
              "3            56.18  \n",
              "4              NaN  \n",
              "...            ...  \n",
              "2303           NaN  \n",
              "2304           NaN  \n",
              "2305           NaN  \n",
              "2306           NaN  \n",
              "2307           NaN  \n",
              "\n",
              "[2308 rows x 5 columns]"
            ],
            "text/html": [
              "\n",
              "  <div id=\"df-00dee93f-3d48-42f4-984f-7d9f3e5275f3\">\n",
              "    <div class=\"colab-df-container\">\n",
              "      <div>\n",
              "<style scoped>\n",
              "    .dataframe tbody tr th:only-of-type {\n",
              "        vertical-align: middle;\n",
              "    }\n",
              "\n",
              "    .dataframe tbody tr th {\n",
              "        vertical-align: top;\n",
              "    }\n",
              "\n",
              "    .dataframe thead th {\n",
              "        text-align: right;\n",
              "    }\n",
              "</style>\n",
              "<table border=\"1\" class=\"dataframe\">\n",
              "  <thead>\n",
              "    <tr style=\"text-align: right;\">\n",
              "      <th></th>\n",
              "      <th>Videocard Name</th>\n",
              "      <th>Passmark G3D Mark\\n(higher is better)</th>\n",
              "      <th>Rank\\n(lower is better)</th>\n",
              "      <th>Videocard Value\\n(higher is better)</th>\n",
              "      <th>Price\\n(USD)</th>\n",
              "    </tr>\n",
              "  </thead>\n",
              "  <tbody>\n",
              "    <tr>\n",
              "      <th>0</th>\n",
              "      <td>128 DDR Radeon 9700 TX w/TV-Out</td>\n",
              "      <td>44</td>\n",
              "      <td>1970</td>\n",
              "      <td>NaN</td>\n",
              "      <td>NaN</td>\n",
              "    </tr>\n",
              "    <tr>\n",
              "      <th>1</th>\n",
              "      <td>128 DDR Radeon 9800 Pro</td>\n",
              "      <td>62</td>\n",
              "      <td>1911</td>\n",
              "      <td>NaN</td>\n",
              "      <td>NaN</td>\n",
              "    </tr>\n",
              "    <tr>\n",
              "      <th>2</th>\n",
              "      <td>128MB DDR Radeon 9800 Pro</td>\n",
              "      <td>66</td>\n",
              "      <td>1900</td>\n",
              "      <td>NaN</td>\n",
              "      <td>NaN</td>\n",
              "    </tr>\n",
              "    <tr>\n",
              "      <th>3</th>\n",
              "      <td>128MB RADEON X600 SE</td>\n",
              "      <td>49</td>\n",
              "      <td>1950</td>\n",
              "      <td>0.87</td>\n",
              "      <td>56.18</td>\n",
              "    </tr>\n",
              "    <tr>\n",
              "      <th>4</th>\n",
              "      <td>15FF</td>\n",
              "      <td>8229</td>\n",
              "      <td>171</td>\n",
              "      <td>NaN</td>\n",
              "      <td>NaN</td>\n",
              "    </tr>\n",
              "    <tr>\n",
              "      <th>...</th>\n",
              "      <td>...</td>\n",
              "      <td>...</td>\n",
              "      <td>...</td>\n",
              "      <td>...</td>\n",
              "      <td>...</td>\n",
              "    </tr>\n",
              "    <tr>\n",
              "      <th>2303</th>\n",
              "      <td>Xabre</td>\n",
              "      <td>5</td>\n",
              "      <td>2160</td>\n",
              "      <td>NaN</td>\n",
              "      <td>NaN</td>\n",
              "    </tr>\n",
              "    <tr>\n",
              "      <th>2304</th>\n",
              "      <td>XFX Radeon HD 4650 AGP</td>\n",
              "      <td>109</td>\n",
              "      <td>1758</td>\n",
              "      <td>NaN</td>\n",
              "      <td>NaN</td>\n",
              "    </tr>\n",
              "    <tr>\n",
              "      <th>2305</th>\n",
              "      <td>XGI Volari Family v1.13.23.D_V</td>\n",
              "      <td>4</td>\n",
              "      <td>2179</td>\n",
              "      <td>NaN</td>\n",
              "      <td>NaN</td>\n",
              "    </tr>\n",
              "    <tr>\n",
              "      <th>2306</th>\n",
              "      <td>ZX Chrome 645/640 GPU</td>\n",
              "      <td>147</td>\n",
              "      <td>1652</td>\n",
              "      <td>NaN</td>\n",
              "      <td>NaN</td>\n",
              "    </tr>\n",
              "    <tr>\n",
              "      <th>2307</th>\n",
              "      <td>zxcvIntel HD 620</td>\n",
              "      <td>943</td>\n",
              "      <td>-1</td>\n",
              "      <td>NaN</td>\n",
              "      <td>NaN</td>\n",
              "    </tr>\n",
              "  </tbody>\n",
              "</table>\n",
              "<p>2308 rows × 5 columns</p>\n",
              "</div>\n",
              "      <button class=\"colab-df-convert\" onclick=\"convertToInteractive('df-00dee93f-3d48-42f4-984f-7d9f3e5275f3')\"\n",
              "              title=\"Convert this dataframe to an interactive table.\"\n",
              "              style=\"display:none;\">\n",
              "        \n",
              "  <svg xmlns=\"http://www.w3.org/2000/svg\" height=\"24px\"viewBox=\"0 0 24 24\"\n",
              "       width=\"24px\">\n",
              "    <path d=\"M0 0h24v24H0V0z\" fill=\"none\"/>\n",
              "    <path d=\"M18.56 5.44l.94 2.06.94-2.06 2.06-.94-2.06-.94-.94-2.06-.94 2.06-2.06.94zm-11 1L8.5 8.5l.94-2.06 2.06-.94-2.06-.94L8.5 2.5l-.94 2.06-2.06.94zm10 10l.94 2.06.94-2.06 2.06-.94-2.06-.94-.94-2.06-.94 2.06-2.06.94z\"/><path d=\"M17.41 7.96l-1.37-1.37c-.4-.4-.92-.59-1.43-.59-.52 0-1.04.2-1.43.59L10.3 9.45l-7.72 7.72c-.78.78-.78 2.05 0 2.83L4 21.41c.39.39.9.59 1.41.59.51 0 1.02-.2 1.41-.59l7.78-7.78 2.81-2.81c.8-.78.8-2.07 0-2.86zM5.41 20L4 18.59l7.72-7.72 1.47 1.35L5.41 20z\"/>\n",
              "  </svg>\n",
              "      </button>\n",
              "      \n",
              "  <style>\n",
              "    .colab-df-container {\n",
              "      display:flex;\n",
              "      flex-wrap:wrap;\n",
              "      gap: 12px;\n",
              "    }\n",
              "\n",
              "    .colab-df-convert {\n",
              "      background-color: #E8F0FE;\n",
              "      border: none;\n",
              "      border-radius: 50%;\n",
              "      cursor: pointer;\n",
              "      display: none;\n",
              "      fill: #1967D2;\n",
              "      height: 32px;\n",
              "      padding: 0 0 0 0;\n",
              "      width: 32px;\n",
              "    }\n",
              "\n",
              "    .colab-df-convert:hover {\n",
              "      background-color: #E2EBFA;\n",
              "      box-shadow: 0px 1px 2px rgba(60, 64, 67, 0.3), 0px 1px 3px 1px rgba(60, 64, 67, 0.15);\n",
              "      fill: #174EA6;\n",
              "    }\n",
              "\n",
              "    [theme=dark] .colab-df-convert {\n",
              "      background-color: #3B4455;\n",
              "      fill: #D2E3FC;\n",
              "    }\n",
              "\n",
              "    [theme=dark] .colab-df-convert:hover {\n",
              "      background-color: #434B5C;\n",
              "      box-shadow: 0px 1px 3px 1px rgba(0, 0, 0, 0.15);\n",
              "      filter: drop-shadow(0px 1px 2px rgba(0, 0, 0, 0.3));\n",
              "      fill: #FFFFFF;\n",
              "    }\n",
              "  </style>\n",
              "\n",
              "      <script>\n",
              "        const buttonEl =\n",
              "          document.querySelector('#df-00dee93f-3d48-42f4-984f-7d9f3e5275f3 button.colab-df-convert');\n",
              "        buttonEl.style.display =\n",
              "          google.colab.kernel.accessAllowed ? 'block' : 'none';\n",
              "\n",
              "        async function convertToInteractive(key) {\n",
              "          const element = document.querySelector('#df-00dee93f-3d48-42f4-984f-7d9f3e5275f3');\n",
              "          const dataTable =\n",
              "            await google.colab.kernel.invokeFunction('convertToInteractive',\n",
              "                                                     [key], {});\n",
              "          if (!dataTable) return;\n",
              "\n",
              "          const docLinkHtml = 'Like what you see? Visit the ' +\n",
              "            '<a target=\"_blank\" href=https://colab.research.google.com/notebooks/data_table.ipynb>data table notebook</a>'\n",
              "            + ' to learn more about interactive tables.';\n",
              "          element.innerHTML = '';\n",
              "          dataTable['output_type'] = 'display_data';\n",
              "          await google.colab.output.renderOutput(dataTable, element);\n",
              "          const docLink = document.createElement('div');\n",
              "          docLink.innerHTML = docLinkHtml;\n",
              "          element.appendChild(docLink);\n",
              "        }\n",
              "      </script>\n",
              "    </div>\n",
              "  </div>\n",
              "  "
            ]
          },
          "metadata": {},
          "execution_count": 32
        }
      ]
    },
    {
      "cell_type": "markdown",
      "source": [
        "### Data analysis"
      ],
      "metadata": {
        "id": "7Aw3Vq42pkOE"
      }
    },
    {
      "cell_type": "code",
      "source": [
        "video_cards_df.info()"
      ],
      "metadata": {
        "colab": {
          "base_uri": "https://localhost:8080/"
        },
        "id": "w4CF-WDw3njy",
        "outputId": "575451ca-40f6-4cc7-cccc-c44f84696e23"
      },
      "execution_count": null,
      "outputs": [
        {
          "output_type": "stream",
          "name": "stdout",
          "text": [
            "<class 'pandas.core.frame.DataFrame'>\n",
            "RangeIndex: 2307 entries, 0 to 2306\n",
            "Data columns (total 5 columns):\n",
            " #   Column                                Non-Null Count  Dtype  \n",
            "---  ------                                --------------  -----  \n",
            " 0   Videocard Name                        2307 non-null   object \n",
            " 1   Passmark G3D Mark\n",
            "(higher is better)  2307 non-null   int64  \n",
            " 2   Rank\n",
            "(lower is better)                2307 non-null   int64  \n",
            " 3   Videocard Value\n",
            "(higher is better)    558 non-null    float64\n",
            " 4   Price\n",
            "(USD)                           558 non-null    float64\n",
            "dtypes: float64(2), int64(2), object(1)\n",
            "memory usage: 90.2+ KB\n",
            "None\n"
          ]
        }
      ]
    },
    {
      "cell_type": "code",
      "source": [
        "video_cards_df.describe()"
      ],
      "metadata": {
        "colab": {
          "base_uri": "https://localhost:8080/",
          "height": 300
        },
        "id": "XbWJL_TD3kEU",
        "outputId": "462b08c9-9749-42aa-e7a1-b8eef09f3764"
      },
      "execution_count": null,
      "outputs": [
        {
          "output_type": "execute_result",
          "data": {
            "text/plain": [
              "       Passmark G3D Mark\\n(higher is better)  Rank\\n(lower is better)  \\\n",
              "count                            2307.000000              2307.000000   \n",
              "mean                             2109.438665              1114.320763   \n",
              "std                              3917.060547               665.574216   \n",
              "min                                 1.000000                -1.000000   \n",
              "25%                               129.000000               537.500000   \n",
              "50%                               660.000000              1114.000000   \n",
              "75%                              1958.000000              1690.500000   \n",
              "max                             30078.000000              2267.000000   \n",
              "\n",
              "       Videocard Value\\n(higher is better)  Price\\n(USD)  \n",
              "count                           558.000000    558.000000  \n",
              "mean                             11.352294    432.625699  \n",
              "std                              13.382397    751.748734  \n",
              "min                               0.000000     17.500000  \n",
              "25%                               1.737500    109.990000  \n",
              "50%                               6.715000    210.955000  \n",
              "75%                              16.890000    434.180000  \n",
              "max                             143.920000   8999.000000  "
            ],
            "text/html": [
              "\n",
              "  <div id=\"df-5a42eb37-15fe-4121-bda2-1de4c5f60638\">\n",
              "    <div class=\"colab-df-container\">\n",
              "      <div>\n",
              "<style scoped>\n",
              "    .dataframe tbody tr th:only-of-type {\n",
              "        vertical-align: middle;\n",
              "    }\n",
              "\n",
              "    .dataframe tbody tr th {\n",
              "        vertical-align: top;\n",
              "    }\n",
              "\n",
              "    .dataframe thead th {\n",
              "        text-align: right;\n",
              "    }\n",
              "</style>\n",
              "<table border=\"1\" class=\"dataframe\">\n",
              "  <thead>\n",
              "    <tr style=\"text-align: right;\">\n",
              "      <th></th>\n",
              "      <th>Passmark G3D Mark\\n(higher is better)</th>\n",
              "      <th>Rank\\n(lower is better)</th>\n",
              "      <th>Videocard Value\\n(higher is better)</th>\n",
              "      <th>Price\\n(USD)</th>\n",
              "    </tr>\n",
              "  </thead>\n",
              "  <tbody>\n",
              "    <tr>\n",
              "      <th>count</th>\n",
              "      <td>2307.000000</td>\n",
              "      <td>2307.000000</td>\n",
              "      <td>558.000000</td>\n",
              "      <td>558.000000</td>\n",
              "    </tr>\n",
              "    <tr>\n",
              "      <th>mean</th>\n",
              "      <td>2109.438665</td>\n",
              "      <td>1114.320763</td>\n",
              "      <td>11.352294</td>\n",
              "      <td>432.625699</td>\n",
              "    </tr>\n",
              "    <tr>\n",
              "      <th>std</th>\n",
              "      <td>3917.060547</td>\n",
              "      <td>665.574216</td>\n",
              "      <td>13.382397</td>\n",
              "      <td>751.748734</td>\n",
              "    </tr>\n",
              "    <tr>\n",
              "      <th>min</th>\n",
              "      <td>1.000000</td>\n",
              "      <td>-1.000000</td>\n",
              "      <td>0.000000</td>\n",
              "      <td>17.500000</td>\n",
              "    </tr>\n",
              "    <tr>\n",
              "      <th>25%</th>\n",
              "      <td>129.000000</td>\n",
              "      <td>537.500000</td>\n",
              "      <td>1.737500</td>\n",
              "      <td>109.990000</td>\n",
              "    </tr>\n",
              "    <tr>\n",
              "      <th>50%</th>\n",
              "      <td>660.000000</td>\n",
              "      <td>1114.000000</td>\n",
              "      <td>6.715000</td>\n",
              "      <td>210.955000</td>\n",
              "    </tr>\n",
              "    <tr>\n",
              "      <th>75%</th>\n",
              "      <td>1958.000000</td>\n",
              "      <td>1690.500000</td>\n",
              "      <td>16.890000</td>\n",
              "      <td>434.180000</td>\n",
              "    </tr>\n",
              "    <tr>\n",
              "      <th>max</th>\n",
              "      <td>30078.000000</td>\n",
              "      <td>2267.000000</td>\n",
              "      <td>143.920000</td>\n",
              "      <td>8999.000000</td>\n",
              "    </tr>\n",
              "  </tbody>\n",
              "</table>\n",
              "</div>\n",
              "      <button class=\"colab-df-convert\" onclick=\"convertToInteractive('df-5a42eb37-15fe-4121-bda2-1de4c5f60638')\"\n",
              "              title=\"Convert this dataframe to an interactive table.\"\n",
              "              style=\"display:none;\">\n",
              "        \n",
              "  <svg xmlns=\"http://www.w3.org/2000/svg\" height=\"24px\"viewBox=\"0 0 24 24\"\n",
              "       width=\"24px\">\n",
              "    <path d=\"M0 0h24v24H0V0z\" fill=\"none\"/>\n",
              "    <path d=\"M18.56 5.44l.94 2.06.94-2.06 2.06-.94-2.06-.94-.94-2.06-.94 2.06-2.06.94zm-11 1L8.5 8.5l.94-2.06 2.06-.94-2.06-.94L8.5 2.5l-.94 2.06-2.06.94zm10 10l.94 2.06.94-2.06 2.06-.94-2.06-.94-.94-2.06-.94 2.06-2.06.94z\"/><path d=\"M17.41 7.96l-1.37-1.37c-.4-.4-.92-.59-1.43-.59-.52 0-1.04.2-1.43.59L10.3 9.45l-7.72 7.72c-.78.78-.78 2.05 0 2.83L4 21.41c.39.39.9.59 1.41.59.51 0 1.02-.2 1.41-.59l7.78-7.78 2.81-2.81c.8-.78.8-2.07 0-2.86zM5.41 20L4 18.59l7.72-7.72 1.47 1.35L5.41 20z\"/>\n",
              "  </svg>\n",
              "      </button>\n",
              "      \n",
              "  <style>\n",
              "    .colab-df-container {\n",
              "      display:flex;\n",
              "      flex-wrap:wrap;\n",
              "      gap: 12px;\n",
              "    }\n",
              "\n",
              "    .colab-df-convert {\n",
              "      background-color: #E8F0FE;\n",
              "      border: none;\n",
              "      border-radius: 50%;\n",
              "      cursor: pointer;\n",
              "      display: none;\n",
              "      fill: #1967D2;\n",
              "      height: 32px;\n",
              "      padding: 0 0 0 0;\n",
              "      width: 32px;\n",
              "    }\n",
              "\n",
              "    .colab-df-convert:hover {\n",
              "      background-color: #E2EBFA;\n",
              "      box-shadow: 0px 1px 2px rgba(60, 64, 67, 0.3), 0px 1px 3px 1px rgba(60, 64, 67, 0.15);\n",
              "      fill: #174EA6;\n",
              "    }\n",
              "\n",
              "    [theme=dark] .colab-df-convert {\n",
              "      background-color: #3B4455;\n",
              "      fill: #D2E3FC;\n",
              "    }\n",
              "\n",
              "    [theme=dark] .colab-df-convert:hover {\n",
              "      background-color: #434B5C;\n",
              "      box-shadow: 0px 1px 3px 1px rgba(0, 0, 0, 0.15);\n",
              "      filter: drop-shadow(0px 1px 2px rgba(0, 0, 0, 0.3));\n",
              "      fill: #FFFFFF;\n",
              "    }\n",
              "  </style>\n",
              "\n",
              "      <script>\n",
              "        const buttonEl =\n",
              "          document.querySelector('#df-5a42eb37-15fe-4121-bda2-1de4c5f60638 button.colab-df-convert');\n",
              "        buttonEl.style.display =\n",
              "          google.colab.kernel.accessAllowed ? 'block' : 'none';\n",
              "\n",
              "        async function convertToInteractive(key) {\n",
              "          const element = document.querySelector('#df-5a42eb37-15fe-4121-bda2-1de4c5f60638');\n",
              "          const dataTable =\n",
              "            await google.colab.kernel.invokeFunction('convertToInteractive',\n",
              "                                                     [key], {});\n",
              "          if (!dataTable) return;\n",
              "\n",
              "          const docLinkHtml = 'Like what you see? Visit the ' +\n",
              "            '<a target=\"_blank\" href=https://colab.research.google.com/notebooks/data_table.ipynb>data table notebook</a>'\n",
              "            + ' to learn more about interactive tables.';\n",
              "          element.innerHTML = '';\n",
              "          dataTable['output_type'] = 'display_data';\n",
              "          await google.colab.output.renderOutput(dataTable, element);\n",
              "          const docLink = document.createElement('div');\n",
              "          docLink.innerHTML = docLinkHtml;\n",
              "          element.appendChild(docLink);\n",
              "        }\n",
              "      </script>\n",
              "    </div>\n",
              "  </div>\n",
              "  "
            ]
          },
          "metadata": {},
          "execution_count": 143
        }
      ]
    },
    {
      "cell_type": "markdown",
      "source": [
        "### Data cleaning"
      ],
      "metadata": {
        "id": "Pz1jeuqXpom9"
      }
    },
    {
      "cell_type": "markdown",
      "source": [
        "## Class to scrape the multi-page tables"
      ],
      "metadata": {
        "id": "wGLK5QpFcZRt"
      }
    },
    {
      "cell_type": "code",
      "source": [
        "class PassMarkPCComponentsAndAndroid:\n",
        "    def __init__(self):\n",
        "        self._urls = [\n",
        "            'https://www.videocardbenchmark.net/gpu_list.php',\n",
        "            'https://www.cpubenchmark.net/cpu_list.php',\n",
        "            'https://www.harddrivebenchmark.net/hdd_list.php',\n",
        "            'https://www.memorybenchmark.net/ram_list.php',\n",
        "            'https://www.androidbenchmark.net/device_list.php',\n",
        "\n",
        "        ]"
      ],
      "metadata": {
        "id": "ZvDnwnQVieNw"
      },
      "execution_count": null,
      "outputs": []
    }
  ]
}